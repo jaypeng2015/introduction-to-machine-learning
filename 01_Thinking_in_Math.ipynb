{
 "cells": [
  {
   "cell_type": "markdown",
   "metadata": {},
   "source": [
    "![Machine Learning](https://encrypted-tbn0.gstatic.com/images?q=tbn:ANd9GcRI9VqxdYzluTEljNS3NF5qu199BMdcJlGPRPCyB9Dt2jVR7GKrIg)\n",
    "\n",
    "# Thinking in Math - Step 0 to Machine Learning"
   ]
  },
  {
   "cell_type": "markdown",
   "metadata": {},
   "source": [
    "## Coding Challange - Sum of The Largest Odd Divisions of Continuous Positive Integers\n",
    "    \n",
    "Define function f as the solution to get the largest odd divisor of n, n is a positive integer, e.g. when n = 44, then f(44)=11.\n",
    "\n",
    "Now given n, calculate the value of f(1) +  f(2)  + f(3) + ... + f(n).\n",
    "    \n",
    "For example:\n",
    "n=7\n",
    "\n",
    "S(7) = f(1) + f(2) + f(3) + f(4) + f(5) + f(6) + f(7) = 1 + 1 + 3 + 1 + 5 + 3 + 7 = 21\n",
    "\n",
    "Input: 1 ≤ n ≤ 1000000000, or even larger if your solution works well. \n",
    "\n",
    "Please note that there is a time limit for you function S(n): 1s"
   ]
  },
  {
   "cell_type": "markdown",
   "metadata": {},
   "source": [
    "### First Glance\n",
    "\n",
    "This is what came to my mind at the beginning, absolutely it won't work for large inputs."
   ]
  },
  {
   "cell_type": "code",
   "execution_count": 4,
   "metadata": {},
   "outputs": [
    {
     "ename": "RuntimeError",
     "evalue": "maximum recursion depth exceeded",
     "output_type": "error",
     "traceback": [
      "\u001b[0;31m---------------------------------------------------------------------------\u001b[0m",
      "\u001b[0;31mRuntimeError\u001b[0m                              Traceback (most recent call last)",
      "\u001b[0;32m<ipython-input-4-63aab78ce0b4>\u001b[0m in \u001b[0;36m<module>\u001b[0;34m()\u001b[0m\n\u001b[1;32m     14\u001b[0m \u001b[0;31m# for i in range (1,8):\u001b[0m\u001b[0;34m\u001b[0m\u001b[0;34m\u001b[0m\u001b[0m\n\u001b[1;32m     15\u001b[0m \u001b[0;31m#     print(sum_of_the_largest_divisions(i))\u001b[0m\u001b[0;34m\u001b[0m\u001b[0;34m\u001b[0m\u001b[0m\n\u001b[0;32m---> 16\u001b[0;31m \u001b[0;32mprint\u001b[0m\u001b[0;34m(\u001b[0m\u001b[0mint\u001b[0m\u001b[0;34m(\u001b[0m\u001b[0msum_of_the_largest_divisions\u001b[0m\u001b[0;34m(\u001b[0m\u001b[0;36m1000\u001b[0m\u001b[0;34m)\u001b[0m\u001b[0;34m)\u001b[0m\u001b[0;34m)\u001b[0m \u001b[0;31m# it breaks here\u001b[0m\u001b[0;34m\u001b[0m\u001b[0m\n\u001b[0m\u001b[1;32m     17\u001b[0m \u001b[0;32mprint\u001b[0m\u001b[0;34m(\u001b[0m\u001b[0;34m'it took %f s'\u001b[0m \u001b[0;34m%\u001b[0m \u001b[0;34m(\u001b[0m\u001b[0mtime\u001b[0m\u001b[0;34m.\u001b[0m\u001b[0mtime\u001b[0m\u001b[0;34m(\u001b[0m\u001b[0;34m)\u001b[0m\u001b[0;34m-\u001b[0m\u001b[0mstart\u001b[0m\u001b[0;34m)\u001b[0m\u001b[0;34m)\u001b[0m\u001b[0;34m\u001b[0m\u001b[0m\n",
      "\u001b[0;32m<ipython-input-4-63aab78ce0b4>\u001b[0m in \u001b[0;36msum_of_the_largest_divisions\u001b[0;34m(n)\u001b[0m\n\u001b[1;32m      9\u001b[0m     \u001b[0;32mif\u001b[0m \u001b[0mn\u001b[0m \u001b[0;34m==\u001b[0m \u001b[0;36m1\u001b[0m\u001b[0;34m:\u001b[0m\u001b[0;34m\u001b[0m\u001b[0m\n\u001b[1;32m     10\u001b[0m         \u001b[0;32mreturn\u001b[0m \u001b[0;36m1\u001b[0m\u001b[0;34m\u001b[0m\u001b[0m\n\u001b[0;32m---> 11\u001b[0;31m     \u001b[0;32mreturn\u001b[0m \u001b[0mlargest_division\u001b[0m\u001b[0;34m(\u001b[0m\u001b[0mn\u001b[0m\u001b[0;34m)\u001b[0m \u001b[0;34m+\u001b[0m \u001b[0msum_of_the_largest_divisions\u001b[0m\u001b[0;34m(\u001b[0m\u001b[0mn\u001b[0m\u001b[0;34m-\u001b[0m\u001b[0;36m1\u001b[0m\u001b[0;34m)\u001b[0m\u001b[0;34m\u001b[0m\u001b[0m\n\u001b[0m\u001b[1;32m     12\u001b[0m \u001b[0;34m\u001b[0m\u001b[0m\n\u001b[1;32m     13\u001b[0m \u001b[0mstart\u001b[0m \u001b[0;34m=\u001b[0m \u001b[0mtime\u001b[0m\u001b[0;34m.\u001b[0m\u001b[0mtime\u001b[0m\u001b[0;34m(\u001b[0m\u001b[0;34m)\u001b[0m\u001b[0;34m\u001b[0m\u001b[0m\n",
      "... last 1 frames repeated, from the frame below ...\n",
      "\u001b[0;32m<ipython-input-4-63aab78ce0b4>\u001b[0m in \u001b[0;36msum_of_the_largest_divisions\u001b[0;34m(n)\u001b[0m\n\u001b[1;32m      9\u001b[0m     \u001b[0;32mif\u001b[0m \u001b[0mn\u001b[0m \u001b[0;34m==\u001b[0m \u001b[0;36m1\u001b[0m\u001b[0;34m:\u001b[0m\u001b[0;34m\u001b[0m\u001b[0m\n\u001b[1;32m     10\u001b[0m         \u001b[0;32mreturn\u001b[0m \u001b[0;36m1\u001b[0m\u001b[0;34m\u001b[0m\u001b[0m\n\u001b[0;32m---> 11\u001b[0;31m     \u001b[0;32mreturn\u001b[0m \u001b[0mlargest_division\u001b[0m\u001b[0;34m(\u001b[0m\u001b[0mn\u001b[0m\u001b[0;34m)\u001b[0m \u001b[0;34m+\u001b[0m \u001b[0msum_of_the_largest_divisions\u001b[0m\u001b[0;34m(\u001b[0m\u001b[0mn\u001b[0m\u001b[0;34m-\u001b[0m\u001b[0;36m1\u001b[0m\u001b[0;34m)\u001b[0m\u001b[0;34m\u001b[0m\u001b[0m\n\u001b[0m\u001b[1;32m     12\u001b[0m \u001b[0;34m\u001b[0m\u001b[0m\n\u001b[1;32m     13\u001b[0m \u001b[0mstart\u001b[0m \u001b[0;34m=\u001b[0m \u001b[0mtime\u001b[0m\u001b[0;34m.\u001b[0m\u001b[0mtime\u001b[0m\u001b[0;34m(\u001b[0m\u001b[0;34m)\u001b[0m\u001b[0;34m\u001b[0m\u001b[0m\n",
      "\u001b[0;31mRuntimeError\u001b[0m: maximum recursion depth exceeded"
     ]
    }
   ],
   "source": [
    "import time\n",
    "\n",
    "def largest_division(x):\n",
    "    if x % 2 == 1:\n",
    "        return x\n",
    "    return largest_division(x/2)\n",
    "\n",
    "def sum_of_the_largest_divisions(n):\n",
    "    if n == 1:\n",
    "        return 1\n",
    "    return largest_division(n) + sum_of_the_largest_divisions(n-1)\n",
    "\n",
    "start = time.time()\n",
    "# for i in range (1,8):\n",
    "#     print(sum_of_the_largest_divisions(i))\n",
    "print(int(sum_of_the_largest_divisions(1000))) # it breaks here\n",
    "print('it took %f s' % (time.time()-start))"
   ]
  },
  {
   "cell_type": "markdown",
   "metadata": {},
   "source": [
    "### Sencond Attempt\n",
    "Replace the first layer of recursion with for loop."
   ]
  },
  {
   "cell_type": "code",
   "execution_count": null,
   "metadata": {},
   "outputs": [
    {
     "name": "stdout",
     "output_type": "stream",
     "text": [
      "21\n",
      "it took 0.000276 s\n",
      "333396\n",
      "it took 0.001807 s for 1000\n",
      "33333566\n",
      "it took 0.018030 s for 10000\n",
      "3333334736\n",
      "it took 0.090531 s for 100000\n"
     ]
    }
   ],
   "source": [
    "import time\n",
    "\n",
    "def largest_division(x):\n",
    "    if x % 2 == 1:\n",
    "        return x\n",
    "    return largest_division(x/2)\n",
    "\n",
    "def sum_of_the_largest_divisions(n):\n",
    "    ret = 0\n",
    "    for i in range(n, 0, -1):\n",
    "        ret += largest_division(i)\n",
    "    return ret\n",
    "\n",
    "start = time.time()\n",
    "print(int(sum_of_the_largest_divisions(7)))\n",
    "print('it took %f s' % (time.time()-start))\n",
    "\n",
    "start = time.time()\n",
    "print(int(sum_of_the_largest_divisions(1000)))\n",
    "print('it took %f s for 1000' % (time.time()-start))\n",
    "\n",
    "start = time.time()\n",
    "print(int(sum_of_the_largest_divisions(10000)))\n",
    "print('it took %f s for 10000' % (time.time()-start))\n",
    "\n",
    "start = time.time()\n",
    "print(int(sum_of_the_largest_divisions(100000)))\n",
    "print('it took %f s for 100000' % (time.time()-start))\n",
    "\n",
    "start = time.time()\n",
    "print(int(sum_of_the_largest_divisions(10000000)))\n",
    "print('it took %f s for 10000000' % (time.time()-start))\n",
    "\n",
    "# Believe me, you don't want to run this\n",
    "# start = time.time()\n",
    "# print(int(sum_of_the_largest_divisions(1000000000)))\n",
    "# print('it took %f s for 10000000' % (time.time()-start))\n",
    "\n",
    "print('all done')"
   ]
  },
  {
   "cell_type": "markdown",
   "metadata": {},
   "source": [
    "### Solution One\n",
    "$\n",
    "\\begin{equation*} S(n) =\n",
    "\\sum_{k=1}^nf(k) =\n",
    "\\begin{pmatrix}\n",
    "f(1)  \\\\\\\n",
    "f(2)  \\\\\\\n",
    "f(3)  \\\\\\\n",
    "f(4)  \\\\\\\n",
    "f(5)  \\\\\\\n",
    "f(...)  \\\\\\\n",
    "f(n)\n",
    "\\end{pmatrix}\n",
    "\\end{equation*}\n",
    "$ = $\n",
    "\\begin{pmatrix}\n",
    "f(1) & f(2)   \\\\\\\n",
    "f(3) & f(4)  \\\\\\\n",
    "f(5) & ... \\\\\\\n",
    "... & f((2m-1)/2) \\\\\\\n",
    "f(2m-1)   \n",
    "\\end{pmatrix}\n",
    "$ = $\n",
    "\\begin{pmatrix}\n",
    "f(1) & f(1) & ... & f(1)  \\\\\\\n",
    "f(3 & f(3) &  \\\\\\\n",
    "f(5) & ... \\\\\\\n",
    "... & f(m) \\\\\\\n",
    "f(2m-1)   \n",
    "\\end{pmatrix}\n",
    "$ = $\n",
    "\\begin{pmatrix}\n",
    "1 & 1 & ... 1  \\\\\\\n",
    "3 & 3  \\\\\\\n",
    "5 & ... \\\\\\\n",
    "... & m \\\\\\\n",
    "2m-1   \n",
    "\\end{pmatrix}\n",
    "$ = $\n",
    "\\begin{pmatrix}\n",
    "m^2 & (\\frac{m}{2})^2 & ... & 1\n",
    "\\end{pmatrix}\n",
    "$\n",
    "\n",
    "This solution is easy to write but unfortunately doesn't work in python 3."
   ]
  },
  {
   "cell_type": "code",
   "execution_count": 5,
   "metadata": {},
   "outputs": [
    {
     "name": "stdout",
     "output_type": "stream",
     "text": [
      "333333333334181226\n",
      "it took 0.000615 s\n"
     ]
    }
   ],
   "source": [
    "import time\n",
    "def sum_of_the_largest_divisions(n):\n",
    "    if n == 1:\n",
    "        return 1\n",
    "    # 2m-1 = n\n",
    "    return ((n+1)/2)*((n+1)/2) + sum_of_the_largest_divisions(n/2)\n",
    "\n",
    "start = time.time()\n",
    "print(int(sum_of_the_largest_divisions(1000000000)))\n",
    "print('it took %f s' % (time.time()-start))"
   ]
  },
  {
   "cell_type": "markdown",
   "metadata": {},
   "source": [
    "### Solution Two\n",
    "Replace the recursion with while loop.\n"
   ]
  },
  {
   "cell_type": "code",
   "execution_count": 3,
   "metadata": {},
   "outputs": [
    {
     "name": "stdout",
     "output_type": "stream",
     "text": [
      "333333333334181226\n",
      "it took 0.000309 s\n"
     ]
    }
   ],
   "source": [
    "def sum_of_the_largest_divisions_v2(n):\n",
    "    ret = 0\n",
    "    m = n\n",
    "    while (m > 0):\n",
    "        ret += ((m+1)/2)*((m+1)/2)\n",
    "        m = m/2\n",
    "    return ret\n",
    "\n",
    "start = time.time()\n",
    "print(int(sum_of_the_largest_divisions_v2(1000000000)))\n",
    "print('it took %f s' % (time.time()-start))"
   ]
  },
  {
   "cell_type": "markdown",
   "metadata": {},
   "source": [
    "### Test 1\n",
    "```\n",
    " passed = True\n",
    " for m in range(3, 1000000000, 2):\n",
    "     if sum_of_the_largest_divisions(m)-sum_of_the_largest_divisions(m-1) != m:\n",
    "         print('failed')\n",
    "         passed = False\n",
    "         break\n",
    " if passed:\n",
    "     print('passed')\n",
    "```\n",
    "\n",
    "It took 9040.664866 s so probably you just want to have a look at the idea."
   ]
  },
  {
   "cell_type": "markdown",
   "metadata": {},
   "source": [
    "### Test 2\n",
    "Proves that the two solutions are basically the same.\n",
    "To save time, use the last 1000 numbers."
   ]
  },
  {
   "cell_type": "code",
   "execution_count": 4,
   "metadata": {},
   "outputs": [
    {
     "name": "stdout",
     "output_type": "stream",
     "text": [
      "passed\n"
     ]
    }
   ],
   "source": [
    "passed = True\n",
    "for m in range(9999999000, 1000000001):\n",
    "    x = sum_of_the_largest_divisions(m)\n",
    "    y = sum_of_the_largest_divisions_v2(m)\n",
    "    if x != y:\n",
    "        print('failed', m, x, y)\n",
    "        passed = False\n",
    "        break\n",
    "if passed:\n",
    "    print('passed')"
   ]
  },
  {
   "cell_type": "markdown",
   "metadata": {},
   "source": [
    "## The Gate to Machine Learning - Math\n",
    "### Why?\n",
    "#### TensorFlow\n",
    "\n",
    "An open source machine learning framework for everyone, created by Google.\n",
    "\n",
    "So questions:\n",
    "\n",
    " - What is `Tensor`\n",
    " \n",
    "   Basically it's matrix in the broad sense.\n",
    "   \n",
    "   - Scalar: $\\begin{pmatrix}\n",
    "5\n",
    "\\end{pmatrix}\n",
    "$\n",
    "   - Vector: $\n",
    "\\begin{pmatrix}\n",
    "3 \\\\\\\n",
    "2 \n",
    "\\end{pmatrix}\n",
    "$\n",
    "   - Matrix: $\n",
    "\\begin{pmatrix}\n",
    "2 & 3 & 1 \\\\\\\n",
    "0.5 & 2 & -1 \\\\\\\n",
    "-1 & 5 & -7\n",
    "\\end{pmatrix}\n",
    "$\n",
    "\n",
    " - What is `Data Flow Graph`?\n",
    " \n",
    "     `A data flow diagram (DFD) is a graphical representation of the \"flow\" of data through an information system, modelling its process aspects. `\n",
    "      \n",
    " - What's the relationship between these and machine learning?\n",
    "\n",
    "#### Nerual Network\n",
    "\n",
    "The basic of deep learning, which simulates the human brain.\n",
    "\n",
    " - Neuron (1943 by McCuloch & Pitts)\n",
    " \n",
    "    ![Neuron](assets/Neuron.jpg)\n",
    "    \n",
    "    PS: there are about 100 billion of these neurons in a human brain.\n",
    " \n",
    " - Perceptron (1958 by Rosenblat)\n",
    " \n",
    "   The Sigle Layer Network.\n",
    "   \n",
    "   - Z1\n",
    "     \n",
    "     ![Single Layer_Z1](assets/Single_Layer_Z1.jpg)\n",
    "       \n",
    "     \n",
    "   - Z2\n",
    "     \n",
    "     ![Single Layer_Z2](assets/Single_Layer_Z2.jpg)\n",
    "     \n",
    "   - Together\n",
    "     \n",
    "     ![Single_Layer_Together](assets/Single_Layer_Together.jpg)\n",
    "     \n",
    "   - The Matrix Form\n",
    "     \n",
    "     \n",
    "     g(W * a) = z\n",
    "       \n",
    "       \n",
    "     `g` here is `sgn`, the sign function.\n",
    "       \n",
    "  \n",
    "  - Multi Layer Network  \n",
    "      \n",
    "      - Two Layers Example\n",
    "        \n",
    "      ![Two Layers Example](assets/Two_Layers_Example.jpg)\n",
    "      \n",
    "      - The Matrix Form\n",
    "        \n",
    "          g(W<sup>(1)</sup> * a<sup>(1)</sup>) = a<sup>(2)</sup>\n",
    "\n",
    "          g(W<sup>(2)</sup> * a<sup>(2)</sup>) = z\n",
    "            \n",
    "          `g` here is `sigmoid`: \\begin{equation*}S(x) = \\frac{1}{1+e^{-x}}\\end{equation*}\n",
    "\n",
    "          Also called the `Activation Function`.\n",
    "        \n",
    "      - Logistic Regression ★\n",
    "        \n",
    "          Linear regression with `g`, also handles deviations.\n",
    "          Derivative and Statistics are important here.\n",
    "        \n",
    "      - Deep Learning\n",
    "        \n",
    "        The `deeper` the network is, the more accurate results you can get.\n",
    "        Highly depending on the caculate capability.\n",
    "        \n",
    "        - Use different activation functions, the most popular one is `Rectified linear unit (ReLU)`.\n",
    "        \n",
    "        For more info: https://en.wikipedia.org/wiki/Activation_function\n",
    "        \n",
    "        - Important techs\n",
    "            - Use GPU\n",
    "            - Dropout\n",
    "            - Data Augmentation\n",
    "         \n",
    "      - CNN（Conventional Neural Network)\n",
    "      \n",
    "        Image recognition is based on this.\n",
    "              \n",
    "      - RNN（Recurrent Neural Network)\n",
    "      \n",
    "        Voice recognition is based on this.\n",
    "\n",
    "### Conclusion\n",
    "\n",
    " - Required math for machine learning:\n",
    "\n",
    "   - Linear Algebra\n",
    "   - Probability and Statistics\n",
    "   - Calculus\n",
    "   - and more   \n",
    "   \n",
    " - The core for using machine learning is building models from real problems\n",
    " \n",
    " "
   ]
  },
  {
   "cell_type": "code",
   "execution_count": null,
   "metadata": {},
   "outputs": [],
   "source": []
  },
  {
   "cell_type": "markdown",
   "metadata": {},
   "source": [
    "## Happy Machine Learning\n",
    "\n",
    "Welcome to the world of **THE MATRIX**!"
   ]
  },
  {
   "cell_type": "markdown",
   "metadata": {},
   "source": [
    "![The Matrix](https://s3.amazonaws.com/skinner-production/stories/featured_images/000/036/434/large/Matrix-Background-Wallpaper.png?1531666872)"
   ]
  },
  {
   "cell_type": "code",
   "execution_count": null,
   "metadata": {},
   "outputs": [],
   "source": []
  }
 ],
 "metadata": {
  "kernelspec": {
   "display_name": "Python 3",
   "language": "python",
   "name": "python3"
  },
  "language_info": {
   "codemirror_mode": {
    "name": "ipython",
    "version": 3
   },
   "file_extension": ".py",
   "mimetype": "text/x-python",
   "name": "python",
   "nbconvert_exporter": "python",
   "pygments_lexer": "ipython3",
   "version": "3.6.4"
  }
 },
 "nbformat": 4,
 "nbformat_minor": 2
}
