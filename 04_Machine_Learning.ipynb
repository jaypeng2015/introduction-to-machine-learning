{
 "cells": [
  {
   "cell_type": "markdown",
   "metadata": {},
   "source": [
    "This course cs229 offered by Stanford can help you understand Machine Learning better:\n",
    "\n",
    "\n",
    "https://www.youtube.com/playlist?list=PL7FnO5AWye3YU4LeayDKP1AhOqJBAdBYt"
   ]
  },
  {
   "cell_type": "markdown",
   "metadata": {},
   "source": [
    "# Keynotes"
   ]
  },
  {
   "cell_type": "markdown",
   "metadata": {},
   "source": [
    "## Lecture 1\n",
    "\n",
    "### The definition of Machine Learning:\n",
    "\n",
    "Arthul Samuel (1959): Fields of study that gives computers the ability to learn without being explicitly programmed.\n",
    "\n",
    "\n",
    "Tom M. Mitchell (1998): A computer program is said to learn from experience E with respect to some class of tasks T and performance measure P if its performance at tasks in T, as measured by P, improves with experience E.\n",
    "\n",
    "### Main focus of this course\n",
    " - Supervised Learning\n",
    "   - regression problems\n",
    "   - classification problems\n",
    " - Learning Theory\n",
    " - Unsupervised Learning\n",
    "   - clustering problem\n",
    "   - social network analysis\n",
    "   - market segmentation\n",
    "   - astronomical data analysis\n",
    " - Reinforcement Learning"
   ]
  },
  {
   "cell_type": "code",
   "execution_count": null,
   "metadata": {},
   "outputs": [],
   "source": []
  }
 ],
 "metadata": {
  "kernelspec": {
   "display_name": "Python 3",
   "language": "python",
   "name": "python3"
  },
  "language_info": {
   "codemirror_mode": {
    "name": "ipython",
    "version": 3
   },
   "file_extension": ".py",
   "mimetype": "text/x-python",
   "name": "python",
   "nbconvert_exporter": "python",
   "pygments_lexer": "ipython3",
   "version": "3.6.4"
  }
 },
 "nbformat": 4,
 "nbformat_minor": 2
}
