{
 "cells": [
  {
   "cell_type": "markdown",
   "metadata": {},
   "source": [
    "This course **cs231n** offered by Stanford can help you understand what CNN is and how it works:\n",
    "\n",
    "http://cs231n.stanford.edu/\n",
    "\n",
    "All the lectures of 2017 can be found on Youtube:\n",
    "\n",
    "https://www.youtube.com/playlist?list=PL3FW7Lu3i5JvHM8ljYj-zLfQRF3EO8sYv"
   ]
  },
  {
   "cell_type": "markdown",
   "metadata": {},
   "source": [
    "# Keynotes"
   ]
  },
  {
   "cell_type": "markdown",
   "metadata": {},
   "source": [
    "## Lecture 1 - Introduction to Convolutional Neural Networks for Visual Recognition\n",
    "\n",
    "\n",
    "### The is history of visual recognition\n",
    "Image segmentation => face detection => object recognition\n",
    "\n",
    "2006-2012, benchmark data set for object recognition: PASCAL Virual Object Challenge\n",
    "\n",
    "Image Net: 22K categories and 14M images (www.image-net.org)\n",
    "\n",
    "The error rate of object recognition had a significant drop in 2012, and the winning algorithm was `Convolutional Neural Network`\n",
    "\n",
    "### Overview of cs231n\n",
    "\n",
    "Focus on the most important problem of visual recognition: image classification.\n",
    "\n",
    "Also some other problems that related to image classificatio:\n",
    " - object detaction\n",
    " - action classificatio\n",
    " - image captioning\n",
    " \n",
    "The quest of visual intelligence is far beyond object recognition.\n",
    " \n",
    "The algorithm was there since the 90s, the reasons for why it's getting popular are:\n",
    " - compute power\n",
    "  - number of transistors 10<sup>6</sup> => 10<sup>9</sup>\n",
    "  - GPU\n",
    " - data\n",
    "    much more data available\n",
    "    \n",
    "### Pre-requisite of this course\n",
    " - proficiency in python\n",
    " - College Calculas and Linear Algebra\n",
    " - Equilavent knowledge of cs229 (machine learning)"
   ]
  },
  {
   "cell_type": "markdown",
   "metadata": {},
   "source": [
    "## Lecture 2 - Image Classification\n",
    "\n"
   ]
  },
  {
   "cell_type": "code",
   "execution_count": null,
   "metadata": {},
   "outputs": [],
   "source": []
  }
 ],
 "metadata": {
  "kernelspec": {
   "display_name": "Python 3",
   "language": "python",
   "name": "python3"
  },
  "language_info": {
   "codemirror_mode": {
    "name": "ipython",
    "version": 3
   },
   "file_extension": ".py",
   "mimetype": "text/x-python",
   "name": "python",
   "nbconvert_exporter": "python",
   "pygments_lexer": "ipython3",
   "version": "3.6.4"
  }
 },
 "nbformat": 4,
 "nbformat_minor": 2
}
